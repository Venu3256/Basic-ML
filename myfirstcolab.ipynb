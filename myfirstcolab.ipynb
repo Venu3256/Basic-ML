{
  "nbformat": 4,
  "nbformat_minor": 0,
  "metadata": {
    "colab": {
      "name": "myfirstcolab.ipynb",
      "provenance": [],
      "authorship_tag": "ABX9TyPR0EPrXoA0fYR6sdmA930+",
      "include_colab_link": true
    },
    "kernelspec": {
      "name": "python3",
      "display_name": "Python 3"
    },
    "language_info": {
      "name": "python"
    }
  },
  "cells": [
    {
      "cell_type": "markdown",
      "metadata": {
        "id": "view-in-github",
        "colab_type": "text"
      },
      "source": [
        "<a href=\"https://colab.research.google.com/github/Venu3256/Basic-ML/blob/main/myfirstcolab.ipynb\" target=\"_parent\"><img src=\"https://colab.research.google.com/assets/colab-badge.svg\" alt=\"Open In Colab\"/></a>"
      ]
    },
    {
      "cell_type": "markdown",
      "metadata": {
        "id": "ob3FPzUJEyBP"
      },
      "source": [
        "**My First Notebook**"
      ]
    },
    {
      "cell_type": "markdown",
      "metadata": {
        "id": "DId3kuApE62e"
      },
      "source": [
        "**Python Program for finnding Factorial:**"
      ]
    },
    {
      "cell_type": "code",
      "metadata": {
        "id": "ShHaytwYEXD7",
        "colab": {
          "base_uri": "https://localhost:8080/"
        },
        "outputId": "6d6d237d-d6f2-4c12-912e-970ad9b21bc2"
      },
      "source": [
        "N = int(input(\"Enter a number: \"))    \n",
        "factorial = 1    \n",
        "if N < 0:    \n",
        "   print(\" Factorial does not exist for negative numbers\")    \n",
        "elif N == 0:    \n",
        "   print(\"The factorial of 0 is 1\")    \n",
        "else:    \n",
        "   for i in range(1,N+ 1):    \n",
        "       factorial = factorial*i    \n",
        "   print(\"The factorial of\",N,\"is\",factorial)"
      ],
      "execution_count": 1,
      "outputs": [
        {
          "output_type": "stream",
          "name": "stdout",
          "text": [
            "Enter a number: 5\n",
            "The factorial of 5 is 120\n"
          ]
        }
      ]
    },
    {
      "cell_type": "markdown",
      "metadata": {
        "id": "Nc4aVzlKFH33"
      },
      "source": [
        "with the help of the above code we can find the factorial of a number using python.\n",
        "when the user inputs a number, the above python  program calculates the factorial.\n",
        "Here, the number whose factorial is to be found is stored in num, and we check if the number is negative, zero or positive using if...elif...else statement. If the number is positive, we use for loop and range() function to calculate the factorial."
      ]
    },
    {
      "cell_type": "markdown",
      "metadata": {
        "id": "L62mGVd4FJ2-"
      },
      "source": [
        "\n",
        "\n",
        "**Python program for finding sum of N natural numbers:**"
      ]
    },
    {
      "cell_type": "code",
      "metadata": {
        "colab": {
          "base_uri": "https://localhost:8080/"
        },
        "id": "khksDGZ_FUBA",
        "outputId": "ca331439-db9b-491d-a58b-ce6a674a08b3"
      },
      "source": [
        "N = int(input())\n",
        "\n",
        "if N< 0:\n",
        "   print(\"Enter a positive number\")\n",
        "else:\n",
        "   sum = 0\n",
        "   # use while loop to iterate until zero\n",
        "   while(N > 0):\n",
        "       sum +=N \n",
        "       N -= 1\n",
        "   print(\"The sum is\", sum)"
      ],
      "execution_count": 2,
      "outputs": [
        {
          "output_type": "stream",
          "name": "stdout",
          "text": [
            "10\n",
            "The sum is 55\n"
          ]
        }
      ]
    },
    {
      "cell_type": "markdown",
      "metadata": {
        "id": "etqbyf5gFY1u"
      },
      "source": [
        "The above program is used to calculate the sum of N natural numbers.To test the program for a different number, change the value of N.\n",
        "Initially, the sum is initialized to 0. And, the number is stored in variable num.\n",
        "Then, we used the while loop to iterate until N becomes zero. In each iteration of the loop, we have added the N to sum and the value of N is decreased by 1."
      ]
    },
    {
      "cell_type": "markdown",
      "metadata": {
        "id": "IdRgMPHgFaUp"
      },
      "source": [
        "**Python program for finding whether even or odd:**"
      ]
    },
    {
      "cell_type": "code",
      "metadata": {
        "colab": {
          "base_uri": "https://localhost:8080/"
        },
        "id": "7MupBK2iFfoq",
        "outputId": "418934cc-3805-4ae8-bf19-4ca9025911ef"
      },
      "source": [
        "N=int(input())\n",
        "if N%2==0:\n",
        "    print(\"Even\")\n",
        "else:\n",
        "    print(\"Odd\")"
      ],
      "execution_count": 3,
      "outputs": [
        {
          "output_type": "stream",
          "name": "stdout",
          "text": [
            "51\n",
            "Odd\n"
          ]
        }
      ]
    },
    {
      "cell_type": "markdown",
      "metadata": {
        "id": "ktEdjpppFggr"
      },
      "source": [
        "The above python program is used to identify whether the given number is odd or even. A number is even if it is perfectly divisible by 2. When the number is divided by 2, we use the remainder operator % to compute the remainder. If the remainder is not zero, the number is odd."
      ]
    }
  ]
}